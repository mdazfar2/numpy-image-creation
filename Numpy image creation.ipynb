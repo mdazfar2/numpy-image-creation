{
 "cells": [
  {
   "cell_type": "code",
   "execution_count": 9,
   "id": "98e3bfc1",
   "metadata": {},
   "outputs": [
    {
     "data": {
      "image/png": "[encoded data removed]",
      "text/plain": [
       "<Figure size 640x480 with 1 Axes>"
      ]
     },
     "metadata": {},
     "output_type": "display_data"
    }
   ],
   "source": [
    "import numpy as np\n",
    "import matplotlib.pyplot as plt\n",
    "\n",
    "# Image size\n",
    "width, height = 300, 200  # You can adjust the size as per your requirement\n",
    "\n",
    "# Create a blank 3-channel (RGB) image with white background\n",
    "image = np.ones((height, width, 3), dtype=np.uint8) * 255\n",
    "\n",
    "# Calculate stripe heights\n",
    "stripe_height = height // 3\n",
    "\n",
    "# Saffron stripe (top)\n",
    "image[:stripe_height, :] = [255, 153, 51]  # Saffron color (RGB: 255, 153, 51)\n",
    "\n",
    "# White stripe (middle)\n",
    "image[stripe_height:2 * stripe_height, :] = [255, 255, 255]  # White color (RGB: 255, 255, 255)\n",
    "\n",
    "# Green stripe (bottom)\n",
    "image[2 * stripe_height:, :] = [19, 136, 8]  # Green color (RGB: 19, 136, 8)\n",
    "\n",
    "# Ashoka Chakra (navy blue circle)\n",
    "center_x, center_y = width // 2, height // 2\n",
    "radius = min(width, height) // 6\n",
    "num_spokes = 24\n",
    "\n",
    "for angle in np.linspace(0, 2 * np.pi, num_spokes, endpoint=False):\n",
    "    x = int(center_x + radius * np.cos(angle))\n",
    "    y = int(center_y + radius * np.sin(angle))\n",
    "    image[y - 2:y + 3, x - 2:x + 3] = [0, 56, 168]  # Navy blue color (RGB: 0, 56, 168)\n",
    "\n",
    "# Display the Indian flag using matplotlib\n",
    "plt.imshow(image)\n",
    "plt.axis('off')  # Turn off axis labels\n",
    "plt.show()"
   ]
  },
  {
   "cell_type": "code",
   "execution_count": null,
   "id": "64e6e79e",
   "metadata": {},
   "outputs": [],
   "source": []
  },
  {
   "cell_type": "code",
   "execution_count": null,
   "id": "a3c48252",
   "metadata": {},
   "outputs": [],
   "source": []
  }
 ],
 "metadata": {
  "kernelspec": {
   "display_name": "Python 3 (ipykernel)",
   "language": "python",
   "name": "python3"
  },
  "language_info": {
   "codemirror_mode": {
    "name": "ipython",
    "version": 3
   },
   "file_extension": ".py",
   "mimetype": "text/x-python",
   "name": "python",
   "nbconvert_exporter": "python",
   "pygments_lexer": "ipython3",
   "version": "3.11.3"
  }
 },
 "nbformat": 4,
 "nbformat_minor": 5
}
