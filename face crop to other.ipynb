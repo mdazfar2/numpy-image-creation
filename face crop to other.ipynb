{
 "cells": [
  {
   "cell_type": "code",
   "execution_count": 18,
   "id": "40c9a340",
   "metadata": {},
   "outputs": [],
   "source": [
    "import cv2\n",
    "\n",
    "# Load the image\n",
    "modi12 = cv2.imread('modipic1.jpg')\n",
    "katrina12 = cv2.imread('katrinapic.jpg')\n",
    "cv2.imshow(\"modi1234\",modi12)\n",
    "cv2.waitKey()\n",
    "cv2.destroyAllWindows()\n",
    "cv2.imshow(\"katrina1234\",katrina12)\n",
    "cv2.waitKey()\n",
    "cv2.destroyAllWindows()"
   ]
  },
  {
   "cell_type": "code",
   "execution_count": 51,
   "id": "60a72311",
   "metadata": {},
   "outputs": [
    {
     "data": {
      "text/plain": [
       "(1600, 1112, 3)"
      ]
     },
     "execution_count": 51,
     "metadata": {},
     "output_type": "execute_result"
    }
   ],
   "source": [
    "katrina12.shape"
   ]
  },
  {
   "cell_type": "code",
   "execution_count": 8,
   "id": "33c319cd",
   "metadata": {},
   "outputs": [],
   "source": [
    "modi1=modi12[45:730,420:740]\n",
    "cv2.imshow(\"modi485\",modi1)\n",
    "cv2.waitKey()\n",
    "cv2.destroyAllWindows()"
   ]
  },
  {
   "cell_type": "code",
   "execution_count": 15,
   "id": "8e8239fc",
   "metadata": {},
   "outputs": [],
   "source": [
    "azfar=katrina12[150:2500,145:800]\n",
    "cv2.imshow(\"katrina123\",azfar)\n",
    "cv2.waitKey()\n",
    "cv2.destroyAllWindows()"
   ]
  },
  {
   "cell_type": "code",
   "execution_count": 14,
   "id": "13bb2143",
   "metadata": {},
   "outputs": [],
   "source": [
    "katrina12[400:1085,200:520]=modi1\n",
    "cv2.imshow(\"modi485\",katrina12)\n",
    "cv2.waitKey()\n",
    "cv2.destroyAllWindows()"
   ]
  },
  {
   "cell_type": "code",
   "execution_count": null,
   "id": "0d42ca5b",
   "metadata": {},
   "outputs": [],
   "source": []
  }
 ],
 "metadata": {
  "kernelspec": {
   "display_name": "Python 3 (ipykernel)",
   "language": "python",
   "name": "python3"
  },
  "language_info": {
   "codemirror_mode": {
    "name": "ipython",
    "version": 3
   },
   "file_extension": ".py",
   "mimetype": "text/x-python",
   "name": "python",
   "nbconvert_exporter": "python",
   "pygments_lexer": "ipython3",
   "version": "3.11.3"
  }
 },
 "nbformat": 4,
 "nbformat_minor": 5
}
